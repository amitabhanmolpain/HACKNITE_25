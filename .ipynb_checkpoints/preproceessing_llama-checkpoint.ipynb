{
 "cells": [
  {
   "cell_type": "code",
   "execution_count": 7,
   "id": "726574c1-e5db-42d7-90c4-4a2add81e9e9",
   "metadata": {},
   "outputs": [
    {
     "name": "stdout",
     "output_type": "stream",
     "text": [
      "New MVP dataset created: NCERT_dataset_MVP.csv\n"
     ]
    }
   ],
   "source": [
    "import pandas as pd\n",
    "\n",
    "df = pd.read_csv(\"your_file.csv\")\n"
   ]
  },
  {
   "cell_type": "code",
   "execution_count": null,
   "id": "adc2c5ed-74c7-4278-90d0-3fc834059fa8",
   "metadata": {},
   "outputs": [],
   "source": [
    "# Drop NaN values if necessary\n",
    "df.dropna(inplace=True)\n",
    "\n",
    "# Select relevant columns\n",
    "df = df[[\"Topic\", \"Explanation\", \"Question\", \"Answer\", \"Difficulty\", \"StudentLevel\", \"subject\", \"grade\"]]\n",
    "\n",
    "# Check data\n",
    "print(df.head())"
   ]
  }
 ],
 "metadata": {
  "kernelspec": {
   "display_name": "Python [conda env:base] *",
   "language": "python",
   "name": "conda-base-py"
  },
  "language_info": {
   "codemirror_mode": {
    "name": "ipython",
    "version": 3
   },
   "file_extension": ".py",
   "mimetype": "text/x-python",
   "name": "python",
   "nbconvert_exporter": "python",
   "pygments_lexer": "ipython3",
   "version": "3.12.4"
  }
 },
 "nbformat": 4,
 "nbformat_minor": 5
}
